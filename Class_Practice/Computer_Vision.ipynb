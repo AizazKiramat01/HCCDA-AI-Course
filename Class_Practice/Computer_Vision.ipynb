{
 "cells": [
  {
   "cell_type": "code",
   "execution_count": 4,
   "id": "ea6ad292",
   "metadata": {},
   "outputs": [],
   "source": [
    "import cv2"
   ]
  },
  {
   "cell_type": "code",
   "execution_count": 2,
   "id": "3ce063d3",
   "metadata": {},
   "outputs": [
    {
     "name": "stdout",
     "output_type": "stream",
     "text": [
      "Collecting opencv-python\n",
      "  Using cached opencv_python-4.11.0.86-cp37-abi3-win_amd64.whl.metadata (20 kB)\n",
      "Requirement already satisfied: numpy>=1.21.2 in d:\\huawei-hccda-ai-corvit-mardan\\hccda-ai-course\\.conda\\lib\\site-packages (from opencv-python) (2.3.1)\n",
      "Using cached opencv_python-4.11.0.86-cp37-abi3-win_amd64.whl (39.5 MB)\n",
      "Installing collected packages: opencv-python\n",
      "Successfully installed opencv-python-4.11.0.86\n",
      "Note: you may need to restart the kernel to use updated packages.\n"
     ]
    }
   ],
   "source": [
    "pip install opencv-python\n"
   ]
  },
  {
   "cell_type": "code",
   "execution_count": 27,
   "id": "c4dbb691",
   "metadata": {},
   "outputs": [],
   "source": [
    "import cv2\n"
   ]
  },
  {
   "cell_type": "code",
   "execution_count": 29,
   "id": "95fb6f6e",
   "metadata": {},
   "outputs": [],
   "source": [
    "import cv2\n",
    "\n",
    "image = cv2.imread(r\"D:\\\\Huawei-HCCDA-AI-Corvit-Mardan\\\\HCCDA-AI-Course\\\\Images\\\\Banner.PNG\")\n",
    "\n",
    "cv2.imshow(\"AI\",image)\n",
    "cv2.waitKey(0)\n",
    "cv2.destroyAllWindows()\n"
   ]
  },
  {
   "cell_type": "code",
   "execution_count": 31,
   "id": "43d61e20",
   "metadata": {},
   "outputs": [
    {
     "data": {
      "text/plain": [
       "True"
      ]
     },
     "execution_count": 31,
     "metadata": {},
     "output_type": "execute_result"
    }
   ],
   "source": [
    "# Save the file with the changes\n",
    "cv2.imwrite(r\"D:\\\\Huawei-HCCDA-AI-Corvit-Mardan\\\\HCCDA-AI-Course\\\\Images\\\\Banner_edited.jpg\", image)"
   ]
  },
  {
   "cell_type": "code",
   "execution_count": 32,
   "id": "75669c83",
   "metadata": {},
   "outputs": [
    {
     "data": {
      "text/plain": [
       "True"
      ]
     },
     "execution_count": 32,
     "metadata": {},
     "output_type": "execute_result"
    }
   ],
   "source": [
    "#create image folder and save edited image in it\n",
    "import os\n",
    "folder_path = r\"D:\\\\Huawei-HCCDA-AI-Corvit-Mardan\\\\HCCDA-AI-Course\\\\Images\\\\edited_images\"\n",
    "if not os.path.exists(folder_path):\n",
    "    os.makedirs(folder_path)    \n",
    "cv2.imwrite(os.path.join(folder_path, \"Banner_edited.jpg\"), image)\n"
   ]
  },
  {
   "cell_type": "code",
   "execution_count": 66,
   "id": "0b7d6510",
   "metadata": {},
   "outputs": [],
   "source": [
    "#Create blank image\n",
    "import numpy as np\n",
    "blank_image = np.zeros((500, 500, 3), dtype=np.uint8)\n",
    "#Show the blank image\n",
    "cv2.imshow(\"Blank Image\", blank_image)\n",
    "cv2.waitKey(0)\n",
    "cv2.destroyAllWindows()"
   ]
  },
  {
   "cell_type": "code",
   "execution_count": 67,
   "id": "09361b22",
   "metadata": {},
   "outputs": [],
   "source": [
    "#Draw rectangle on the blank image\n",
    "cv2.rectangle(blank_image, (50, 50), (400, 400), (0, 0, 250), 3)\n",
    "#Show the image with Rectangle\n",
    "cv2.imshow(\"rectangle\", blank_image)\n",
    "cv2.waitKey(0)\n",
    "cv2.destroyAllWindows()\n"
   ]
  },
  {
   "cell_type": "code",
   "execution_count": 68,
   "id": "5b7a6364",
   "metadata": {},
   "outputs": [],
   "source": [
    "#Draw a Circle on the blank image\n",
    "cv2.circle(blank_image, (250, 250), 100, (0, 255, 0), 1)\n",
    "#Show the image with Circle\n",
    "cv2.imshow(\"Circle\", blank_image)\n",
    "cv2.waitKey(0)\n",
    "cv2.destroyAllWindows()\n"
   ]
  },
  {
   "cell_type": "code",
   "execution_count": 69,
   "id": "209c4ca7",
   "metadata": {},
   "outputs": [],
   "source": [
    "#Write a text on the blank image\n",
    "font = cv2.FONT_HERSHEY_SIMPLEX\n",
    "cv2.putText(blank_image, \"Hello World\", (100, 250), font, 1, (255, 255, 255), 2, cv2.LINE_AA)\n",
    "#Show the image with text\n",
    "cv2.imshow(\"Text\", blank_image)\n",
    "cv2.waitKey(0)\n",
    "cv2.destroyAllWindows()\n",
    "\n"
   ]
  },
  {
   "cell_type": "code",
   "execution_count": 1,
   "id": "4e65f0fc",
   "metadata": {},
   "outputs": [],
   "source": [
    "import cv2\n",
    "import numpy as np\n",
    "cap= cv2.VideoCapture(0)\n",
    "while True:\n",
    "    ret, frame = cap.read()\n",
    "    if not ret:\n",
    "        break\n",
    "    gray_frame = cv2.cvtColor(frame, cv2.COLOR_BGR2GRAY)\n",
    "    cv2.imshow(\"Gray Frame\", gray_frame)\n",
    "    \n",
    "    if cv2.waitKey(1) & 0xFF == ord('q'):\n",
    "        break\n",
    "cap.release()\n",
    "cv2.destroyAllWindows()"
   ]
  },
  {
   "cell_type": "code",
   "execution_count": 5,
   "id": "88ba4e38",
   "metadata": {},
   "outputs": [
    {
     "data": {
      "text/plain": [
       "True"
      ]
     },
     "execution_count": 5,
     "metadata": {},
     "output_type": "execute_result"
    }
   ],
   "source": [
    "import cv2\n",
    "\n",
    "image = cv2.imread(r\"D:\\\\Huawei-HCCDA-AI-Corvit-Mardan\\\\HCCDA-AI-Course\\\\Images\\\\Banner.PNG\")\n",
    "if image is None:\n",
    "    print(\"Error: Image not found.\")\n",
    "    exit()\n",
    "\n",
    "resized_image = cv2.resize(image, (800, 400))\n",
    "cv2.imshow(\"Resized Image\", resized_image)\n",
    "cv2.waitKey(0)\n",
    "cv2.destroyAllWindows()\n",
    "# Save the resized image\n",
    "cv2.imwrite(r\"D:\\\\Huawei-HCCDA-AI-Corvit-Mardan\\\\HCCDA-AI-Course\\\\Images\\\\Banner_resized.jpg\", resized_image)\n",
    "# Create a folder for resized images if it doesn't exist\n",
    "import os\n",
    "folder_path = r\"D:\\\\Huawei-HCCDA-AI-Corvit-Mardan\\\\HCCDA-AI-Course\\\\Images\\\\resized_images\"\n",
    "if not os.path.exists(folder_path):\n",
    "    os.makedirs(folder_path)\n",
    "# Save the resized image in the folder\n",
    "cv2.imwrite(os.path.join(folder_path, \"Banner_resized.jpg\"), resized_image)"
   ]
  },
  {
   "cell_type": "code",
   "execution_count": null,
   "id": "f5c14bc9",
   "metadata": {},
   "outputs": [],
   "source": []
  }
 ],
 "metadata": {
  "kernelspec": {
   "display_name": "Python 3",
   "language": "python",
   "name": "python3"
  },
  "language_info": {
   "codemirror_mode": {
    "name": "ipython",
    "version": 3
   },
   "file_extension": ".py",
   "mimetype": "text/x-python",
   "name": "python",
   "nbconvert_exporter": "python",
   "pygments_lexer": "ipython3",
   "version": "3.11.13"
  }
 },
 "nbformat": 4,
 "nbformat_minor": 5
}
